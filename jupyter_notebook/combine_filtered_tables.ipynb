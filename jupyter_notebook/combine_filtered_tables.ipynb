{
 "cells": [
  {
   "cell_type": "code",
   "execution_count": 23,
   "id": "699df33a-f478-4c6c-ba86-ee6a26071025",
   "metadata": {},
   "outputs": [],
   "source": [
    "import os\n",
    "import pandas as pd"
   ]
  },
  {
   "cell_type": "code",
   "execution_count": 24,
   "id": "be436de8-01d0-45bc-80cb-04e411c4323e",
   "metadata": {},
   "outputs": [],
   "source": [
    "\n",
    "# Specify the directory where the CSV files are located\n",
    "directory_path = '/Users/hhakimjavadi/Dropbox (UFL)/microbiome_microbiology_CHLA/output_tables/'\n",
    "\n",
    "# Initialize an empty list to store DataFrames\n",
    "filtered_tbls = []\n",
    "\n",
    "# Loop through all the files in the directory\n",
    "for filename in os.listdir(directory_path):\n",
    "    if filename.endswith('.csv'):\n",
    "        file_path = os.path.join(directory_path, filename)\n",
    "        # Read the CSV file and append to the list\n",
    "        filtered_tbls.append(pd.read_csv(file_path))\n",
    "\n",
    "# Combine all DataFrames vertically\n",
    "combined_tbls = pd.concat(filtered_tbls, ignore_index=True)\n",
    "\n",
    "# Save the combined DataFrame to a new CSV file\n",
    "combined_tbls.to_csv('/Users/hhakimjavadi/Dropbox (UFL)/microbiome_microbiology_CHLA/output_tables/combined_results/combined_filtered_tbls.csv', index=False)\n"
   ]
  },
  {
   "cell_type": "code",
   "execution_count": null,
   "id": "5b379e91-0a86-4782-93e5-45b3d0372b41",
   "metadata": {},
   "outputs": [],
   "source": []
  },
  {
   "cell_type": "code",
   "execution_count": null,
   "id": "e3f99a5a-db4f-4bde-8166-233ac0fe8882",
   "metadata": {},
   "outputs": [],
   "source": []
  }
 ],
 "metadata": {
  "kernelspec": {
   "display_name": "Python 3 (ipykernel)",
   "language": "python",
   "name": "python3"
  },
  "language_info": {
   "codemirror_mode": {
    "name": "ipython",
    "version": 3
   },
   "file_extension": ".py",
   "mimetype": "text/x-python",
   "name": "python",
   "nbconvert_exporter": "python",
   "pygments_lexer": "ipython3",
   "version": "3.11.4"
  }
 },
 "nbformat": 4,
 "nbformat_minor": 5
}
